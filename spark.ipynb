{
  "nbformat": 4,
  "nbformat_minor": 0,
  "metadata": {
    "colab": {
      "provenance": [],
      "toc_visible": true
    },
    "kernelspec": {
      "name": "python3",
      "display_name": "Python 3"
    },
    "language_info": {
      "name": "python"
    }
  },
  "cells": [
    {
      "cell_type": "markdown",
      "source": [
        "Установим PySpark"
      ],
      "metadata": {
        "id": "fWVlpyiY_UZ9"
      }
    },
    {
      "cell_type": "code",
      "source": [
        "!pip install pyspark"
      ],
      "metadata": {
        "colab": {
          "base_uri": "https://localhost:8080/"
        },
        "id": "-EJG4HOo28bi",
        "outputId": "67b3864b-1507-4f60-a03a-ee0b52969a2b"
      },
      "execution_count": 1,
      "outputs": [
        {
          "output_type": "stream",
          "name": "stdout",
          "text": [
            "Collecting pyspark\n",
            "  Downloading pyspark-3.5.1.tar.gz (317.0 MB)\n",
            "\u001b[2K     \u001b[90m━━━━━━━━━━━━━━━━━━━━━━━━━━━━━━━━━━━━━━━━\u001b[0m \u001b[32m317.0/317.0 MB\u001b[0m \u001b[31m4.8 MB/s\u001b[0m eta \u001b[36m0:00:00\u001b[0m\n",
            "\u001b[?25h  Preparing metadata (setup.py) ... \u001b[?25l\u001b[?25hdone\n",
            "Requirement already satisfied: py4j==0.10.9.7 in /usr/local/lib/python3.10/dist-packages (from pyspark) (0.10.9.7)\n",
            "Building wheels for collected packages: pyspark\n",
            "  Building wheel for pyspark (setup.py) ... \u001b[?25l\u001b[?25hdone\n",
            "  Created wheel for pyspark: filename=pyspark-3.5.1-py2.py3-none-any.whl size=317488490 sha256=e8864f21bfdd6703bbc422ea39a435b6981d2d651f107c9e27df1f4e41d079a5\n",
            "  Stored in directory: /root/.cache/pip/wheels/80/1d/60/2c256ed38dddce2fdd93be545214a63e02fbd8d74fb0b7f3a6\n",
            "Successfully built pyspark\n",
            "Installing collected packages: pyspark\n",
            "Successfully installed pyspark-3.5.1\n"
          ]
        }
      ]
    },
    {
      "cell_type": "markdown",
      "source": [
        "Создадим новую сессию PySpark"
      ],
      "metadata": {
        "id": "t-bYVrmm_bVR"
      }
    },
    {
      "cell_type": "code",
      "execution_count": 2,
      "metadata": {
        "id": "i10xfIVE2L4l"
      },
      "outputs": [],
      "source": [
        "from pyspark.sql import DataFrame, SparkSession, Row\n",
        "\n",
        "spark = SparkSession.builder.getOrCreate()"
      ]
    },
    {
      "cell_type": "markdown",
      "source": [
        "Создадим DataFrame"
      ],
      "metadata": {
        "id": "CvF9gqXQ_ITR"
      }
    },
    {
      "cell_type": "code",
      "source": [
        "df = spark.createDataFrame(\n",
        "    [('bread', None),\n",
        "     ('sour cream', 'milk product'),\n",
        "     ('sour cream', 'fermented milk product'),\n",
        "     ('milk', 'milk product'),\n",
        "     ('butter', 'milk product'),\n",
        "     ], schema = 'name string, category string'\n",
        ")"
      ],
      "metadata": {
        "id": "J8gskzWc9Tzb"
      },
      "execution_count": 8,
      "outputs": []
    },
    {
      "cell_type": "markdown",
      "source": [
        "Напишем метод для перебора пар имя-категория"
      ],
      "metadata": {
        "id": "s9UHjANw_kZr"
      }
    },
    {
      "cell_type": "code",
      "source": [
        "def getPairs(df):\n",
        "  df.select(df.name, df.category).show()\n",
        "\n",
        "\n",
        "getPairs(df)\n"
      ],
      "metadata": {
        "colab": {
          "base_uri": "https://localhost:8080/"
        },
        "id": "uU5jrysv_2OZ",
        "outputId": "cf963df4-cbc1-4b82-f321-36c3a433e4f5"
      },
      "execution_count": 17,
      "outputs": [
        {
          "output_type": "stream",
          "name": "stdout",
          "text": [
            "+----------+--------------------+\n",
            "|      name|            category|\n",
            "+----------+--------------------+\n",
            "|     bread|                NULL|\n",
            "|sour cream|        milk product|\n",
            "|sour cream|fermented milk pr...|\n",
            "|      milk|        milk product|\n",
            "|    butter|        milk product|\n",
            "+----------+--------------------+\n",
            "\n"
          ]
        }
      ]
    }
  ]
}